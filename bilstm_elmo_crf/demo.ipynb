{
  "nbformat": 4,
  "nbformat_minor": 0,
  "metadata": {
    "kernelspec": {
      "display_name": "Python 3",
      "language": "python",
      "name": "python3"
    },
    "language_info": {
      "codemirror_mode": {
        "name": "ipython",
        "version": 3
      },
      "file_extension": ".py",
      "mimetype": "text/x-python",
      "name": "python",
      "nbconvert_exporter": "python",
      "pygments_lexer": "ipython3",
      "version": "3.6.9"
    },
    "colab": {
      "name": "demo.ipynb",
      "provenance": []
    }
  },
  "cells": [
    {
      "cell_type": "markdown",
      "metadata": {
        "id": "Iw25HakVlUf5"
      },
      "source": [
        "## Relabelling and Mimicking model.\r\n",
        "The notebook consists of process to train a Relabelling and a Mimicking model. First we will train a Relabelling model, test it, use this trained model to induce noise in the dataset. Then, we will train Mimicking model on this noise induced dataset. "
      ]
    },
    {
      "cell_type": "markdown",
      "metadata": {
        "id": "N4q3G_EwlZLB"
      },
      "source": [
        "### 1. Create elmo for the train set. \r\n",
        "Edit the dataset location in the get_elmo_vec.py. Use the data corresponding to the relabelling model."
      ]
    },
    {
      "cell_type": "code",
      "metadata": {
        "id": "yK3zScIMlPK7",
        "outputId": "bc5026ee-0a7f-47c3-8339-2a0b058dcf76"
      },
      "source": [
        "!python3 get_elmo_vec.py"
      ],
      "execution_count": null,
      "outputs": [
        {
          "output_type": "stream",
          "text": [
            "Reading file: data/16-04-2020_annotated_fold2_persection/train.txt\n",
            "100%|███████████████████████████████| 139094/139094 [00:00<00:00, 590430.41it/s]\n",
            "number of sentences: 825\n",
            "Finishing embedding ELMo sequences, saving the vector files.\n",
            "Reading file: data/16-04-2020_annotated_fold2_persection/dev.txt\n",
            "100%|█████████████████████████████████| 17017/17017 [00:00<00:00, 628141.58it/s]\n",
            "number of sentences: 109\n",
            "Finishing embedding ELMo sequences, saving the vector files.\n",
            "Reading file: data/16-04-2020_annotated_fold2_persection/test.txt\n",
            "100%|█████████████████████████████████| 41511/41511 [00:00<00:00, 614922.44it/s]\n",
            "number of sentences: 247\n",
            "Finishing embedding ELMo sequences, saving the vector files.\n"
          ],
          "name": "stdout"
        }
      ]
    },
    {
      "cell_type": "markdown",
      "metadata": {
        "id": "NM15f0edlmyJ"
      },
      "source": [
        "### Train the model on the relabelling model dataset."
      ]
    },
    {
      "cell_type": "code",
      "metadata": {
        "id": "GmnKmZ1PlPLG"
      },
      "source": [
        "!python3 trainer.py --device \"cuda:1\" --dataset \"16-04-2020_annotated_fold2_persection\" --embedding_file \"data/material_science_glove2.txt\" --learning_rate \"0.001\" --optimizer \"sgd\" --context_emb \"elmo\" --dropout 0.5 --hidden_dim 200 --num_epochs 120 --model_folder \"relabelling_model_fold2\" --batch_size 8"
      ],
      "execution_count": null,
      "outputs": []
    },
    {
      "cell_type": "markdown",
      "metadata": {
        "id": "No41Cszpl8Vh"
      },
      "source": [
        "### Reformat the test dataset."
      ]
    },
    {
      "cell_type": "code",
      "metadata": {
        "id": "w18AZ08vlPLH",
        "outputId": "c0ab2cda-9461-4b27-83f2-b284fc2d9467"
      },
      "source": [
        "!python3 create_test_final.py -paperDir ../pdfs/data_16-04-2020_fold2/ -persection true -context elmo"
      ],
      "execution_count": null,
      "outputs": [
        {
          "output_type": "stream",
          "text": [
            "Files: 100%|████████████████████████████████████| 86/86 [00:32<00:00,  2.67it/s]\n"
          ],
          "name": "stdout"
        }
      ]
    },
    {
      "cell_type": "markdown",
      "metadata": {
        "id": "DrVtBjBSmKky"
      },
      "source": [
        "### Predict on this dataset"
      ]
    },
    {
      "cell_type": "code",
      "metadata": {
        "id": "VQF93at8lPLI",
        "outputId": "a0702770-fc04-45a9-d351-8cb96226a664"
      },
      "source": [
        "!python3 predict_instances.py -paperDir ../pdfs/data_16-04-2020_fold2/ -modelPath relabelling_model_fold2/relabelling_model_fold2.tar.gz"
      ],
      "execution_count": null,
      "outputs": [
        {
          "output_type": "stream",
          "text": [
            "Files:   0%|                                             | 0/43 [00:00<?, ?it/s]../pdfs/data_16-04-2020_fold2/29-01-2020-part2-1702.01144v1.Band_Structure_Band_Offsets_Substitutional_Doping_and_Schottky_Barriers_in_InSe.pdf.txt\n",
            "Files:   2%|▊                                    | 1/43 [00:09<06:37,  9.46s/it]../pdfs/data_16-04-2020_fold2/09-02-2020-1711.04334v1.Stable_Ultra_thin_CdTe_Crystal_A_Robust_Direct_Gap_Semiconductor.pdf.txt\n",
            "Files:   5%|█▋                                   | 2/43 [00:22<07:08, 10.44s/it]../pdfs/data_16-04-2020_fold2/09-02-2020-1012.4934v1.Modified_graphene_with_small_BN_domain_an_effective_method_for_band_gap_opening.pdf.txt\n",
            "Files:   7%|██▌                                  | 3/43 [00:33<07:04, 10.62s/it]../pdfs/data_16-04-2020_fold2/09-02-2020-1007.1864v1.The_third_conformer_of_graphane_A_first_principles_DFT_based_study.pdf.txt\n",
            "Files:   9%|███▍                                 | 4/43 [00:46<07:25, 11.42s/it]../pdfs/data_16-04-2020_fold2/28-09-2019-5a.pdf.txt\n",
            "Files:  12%|████▎                                | 5/43 [00:58<07:15, 11.45s/it]../pdfs/data_16-04-2020_fold2/04-09-2019-paper-34.pdf.txt\n",
            "Files:  14%|█████▏                               | 6/43 [01:12<07:37, 12.37s/it]../pdfs/data_16-04-2020_fold2/29-01-2020-part2-1809.05159v1.Phonon_anharmonic_frequency_shift_induced_by_four_phonon_scattering_calculated_from_first_principles.pdf.txt\n",
            "Files:  16%|██████                               | 7/43 [01:27<07:50, 13.07s/it]../pdfs/data_16-04-2020_fold2/29-01-2020-part2-1510.00513v1.Electronic_structure_and_magnetic_properties_of_FeTe_BiFeO__3_SrFe___12_O___19_and_SrCoTiFe___10_O___19_compounds.pdf.txt\n",
            "Files:  19%|██████▉                              | 8/43 [01:38<07:21, 12.61s/it]../pdfs/data_16-04-2020_fold2/29-01-2020-part1-1302.7250v2.Mechanically_induced_metal_insulator_transition_in_carbyne.pdf.txt\n",
            "Files:  21%|███████▋                             | 9/43 [01:50<06:56, 12.25s/it]../pdfs/data_16-04-2020_fold2/26-08-2019-paper-10.pdf.txt\n",
            "Files:  23%|████████▎                           | 10/43 [02:02<06:43, 12.23s/it]../pdfs/data_16-04-2020_fold2/26-08-2019-paper-6.pdf.txt\n",
            "Files:  26%|█████████▏                          | 11/43 [02:13<06:25, 12.05s/it]../pdfs/data_16-04-2020_fold2/28-10-2019-12-10.pdf.txt\n",
            "Files:  28%|██████████                          | 12/43 [02:21<05:32, 10.71s/it]../pdfs/data_16-04-2020_fold2/01-01-2020-3.pdf.txt\n",
            "Files:  30%|██████████▉                         | 13/43 [02:35<05:48, 11.63s/it]../pdfs/data_16-04-2020_fold2/09-02-2020-1011.2576v2.Half_metallic_Antiferromagnet_Sheets_in_Sr4M2O6CrFeAs2_M_Sc_Cr_and_Their_Bulk_Form.pdf.txt\n",
            "Files:  33%|███████████▋                        | 14/43 [02:42<04:59, 10.34s/it]../pdfs/data_16-04-2020_fold2/18-09-2019-paper-10.pdf.txt\n",
            "Files:  35%|████████████▌                       | 15/43 [03:01<06:03, 12.99s/it]../pdfs/data_16-04-2020_fold2/28-10-2019-8-10.pdf.txt\n",
            "Files:  37%|█████████████▍                      | 16/43 [03:13<05:42, 12.69s/it]../pdfs/data_16-04-2020_fold2/04-09-2019-paper-17.pdf.txt\n",
            "Files:  40%|██████████████▏                     | 17/43 [03:24<05:12, 12.02s/it]../pdfs/data_16-04-2020_fold2/09-02-2020-1002.0376v2.First_principles_design_and_subsequent_synthesis_of_a_material_to_search_for_the_permanent_electric_dipole_moment_of_the_electron.pdf.txt\n",
            "Files:  42%|███████████████                     | 18/43 [03:37<05:08, 12.32s/it]../pdfs/data_16-04-2020_fold2/29-01-2020-part2-1907.05115v1.A_novel_approach_to_quantify_the_structural_distortions_of_U_Th_snub_disphenoids_and_their_role_in_zircon_to_reidite_type_phase_transitions_of_uranothorite.pdf.txt\n",
            "Files:  44%|███████████████▉                    | 19/43 [03:58<05:57, 14.88s/it]../pdfs/data_16-04-2020_fold2/29-01-2020-part2-1201.0599v1.Temperature_dependent_elastic_constants_for_crystals_with_arbitrary_symmetry_combined_first_principles_and_continuum_elasticity_theory.pdf.txt\n",
            "Files:  47%|████████████████▋                   | 20/43 [04:07<05:02, 13.13s/it]../pdfs/data_16-04-2020_fold2/28-10-2019-16-10.pdf.txt\n",
            "Files:  49%|█████████████████▌                  | 21/43 [04:15<04:17, 11.69s/it]../pdfs/data_16-04-2020_fold2/09-02-2020-1711.01055v3.Topological_phases_in_Bi_Sb_planar_and_buckled_honeycomb_monolayers.pdf.txt\n",
            "Files:  51%|██████████████████▍                 | 22/43 [04:29<04:17, 12.28s/it]../pdfs/data_16-04-2020_fold2/08-06-2019-paper-5.pdf.txt\n",
            "Files:  53%|███████████████████▎                | 23/43 [04:35<03:30, 10.54s/it]../pdfs/data_16-04-2020_fold2/28-09-2019-10a.pdf.txt\n",
            "Files:  56%|████████████████████                | 24/43 [04:50<03:45, 11.85s/it]../pdfs/data_16-04-2020_fold2/09-02-2020-1008.5310v2.DFT_calculations_of_point_defects_on_UN_001_surface.pdf.txt\n",
            "Files:  58%|████████████████████▉               | 25/43 [04:57<03:08, 10.49s/it]../pdfs/data_16-04-2020_fold2/04-09-2019-paper-22.pdf.txt\n",
            "Files:  60%|█████████████████████▊              | 26/43 [04:58<02:06,  7.44s/it]../pdfs/data_16-04-2020_fold2/18-09-2019-paper-13.pdf.txt\n",
            "Files:  63%|██████████████████████▌             | 27/43 [05:19<03:07, 11.70s/it]../pdfs/data_16-04-2020_fold2/29-01-2020-part1-1608.07203v1.First_principles_phase_stability_bonding_and_electronic_structure_of_actinide_metals.pdf.txt\n",
            "Files:  65%|███████████████████████▍            | 28/43 [05:29<02:46, 11.13s/it]../pdfs/data_16-04-2020_fold2/28-10-2019-1-10.pdf.txt\n",
            "Files:  67%|████████████████████████▎           | 29/43 [05:35<02:15,  9.68s/it]../pdfs/data_16-04-2020_fold2/09-02-2020-1001.2573v1.Stability_and_Electronic_Properties_of_TiO2_Nanostructures_With_and_Without_B_and_N_Doping.pdf.txt\n",
            "Files:  70%|█████████████████████████           | 30/43 [05:52<02:33, 11.79s/it]../pdfs/data_16-04-2020_fold2/18-09-2019-paper-14.pdf.txt\n",
            "Files:  72%|█████████████████████████▉          | 31/43 [06:04<02:20, 11.70s/it]../pdfs/data_16-04-2020_fold2/01-01-2020-9.pdf.txt\n",
            "Files:  74%|██████████████████████████▊         | 32/43 [06:09<01:46,  9.70s/it]../pdfs/data_16-04-2020_fold2/19-01-2019-paper-28.pdf.txt\n",
            "Files:  77%|███████████████████████████▋        | 33/43 [06:21<01:45, 10.58s/it]../pdfs/data_16-04-2020_fold2/09-02-2020-1711.05094v1.Dimensionality_suppressed_chemical_doping_in_2D_semiconductors_the_cases_of_phosphorene_MoS2_and_ReS2_from_first_principles.pdf.txt\n",
            "Files:  79%|████████████████████████████▍       | 34/43 [06:43<02:05, 13.96s/it]../pdfs/data_16-04-2020_fold2/09-02-2020-1001.3224v1.Anomalous_optical_and_electronic_properties_of_dense_sodium.pdf.txt\n",
            "Files:  81%|█████████████████████████████▎      | 35/43 [06:53<01:42, 12.83s/it]../pdfs/data_16-04-2020_fold2/29-01-2020-part2-1808.03505v1.Origin_of_sp_electron_magnetism_in_Graphitic_Carbon_Nitride.pdf.txt\n",
            "Files:  84%|██████████████████████████████▏     | 36/43 [07:01<01:19, 11.38s/it]../pdfs/data_16-04-2020_fold2/08-06-2019-paper-4.pdf.txt\n"
          ],
          "name": "stdout"
        }
      ]
    },
    {
      "cell_type": "markdown",
      "metadata": {
        "id": "RuuVf9hymPpe"
      },
      "source": [
        "### Apply filters and get the final predictions"
      ]
    },
    {
      "cell_type": "code",
      "metadata": {
        "id": "AL6zyt7_lPLI",
        "outputId": "1748b646-fd9e-411b-9e43-77800c0ed9ac"
      },
      "source": [
        "!python3 final_results_final.py -paperDir ../pdfs/data_16-04-2020_fold2/ -filterMaterial true -filterMethod false -MaterialPred false -printOnlyUnmatched false -filterStructure true"
      ],
      "execution_count": null,
      "outputs": [
        {
          "output_type": "stream",
          "text": [
            "Files:   0%|                                            | 0/172 [00:00<?, ?it/s]../pdfs/data_16-04-2020_fold2/26-08-2019-paper-10.pdf.prediction\n",
            "['layered perovskites Sr2MO4 ( M=Ti , V , Cr , and Mn']\n",
            "MATERIAL - 1 ,2, 1, 2\n",
            "METHOD - 4 ,3, 8, 4\n",
            "CODE - 3 ,1, 3, 1\n",
            "PARAMETER - 3 ,3, 7, 3\n",
            "STRUCTURE - 0 ,0, 1, 0\n",
            "../pdfs/data_16-04-2020_fold2/29-01-2020-part1-1608.01885v1.Density_functional_theory_calculations_of_the_stress_of_oxidised_110_silicon_surfaces.pdf.prediction\n",
            "['silicon', 'oxidised ( 110 )']\n",
            "MATERIAL - 2 ,1, 2, 1\n",
            "METHOD - 5 ,3, 7, 4\n",
            "PARAMETER - 1 ,1, 10, 3\n",
            "CODE - 2 ,2, 2, 2\n",
            "Files:   3%|█                                   | 5/172 [00:00<00:03, 48.29it/s]../pdfs/data_16-04-2020_fold2/29-01-2020-part2-1510.00513v1.Electronic_structure_and_magnetic_properties_of_FeTe_BiFeO__3_SrFe___12_O___19_and_SrCoTiFe___10_O___19_compounds.pdf.prediction\n",
            "['FeTe BiFeO 3 SrFe 12 O 19']\n",
            "METHOD - 11 ,5, 22, 5\n",
            "MATERIAL - 1 ,1, 1, 1\n",
            "STRUCTURE - 1 ,1, 7, 1\n",
            "PARAMETER - 0 ,0, 6, 0\n",
            "../pdfs/data_16-04-2020_fold2/28-10-2019-8-10.pdf.prediction\n",
            "['Ni2Mn1 - xRexSn', 'NiMn1 - xRexSn Heusler alloys']\n",
            "MATERIAL - 2 ,1, 2, 1\n",
            "METHOD - 14 ,8, 19, 8\n",
            "CODE - 2 ,2, 4, 2\n",
            "STRUCTURE - 3 ,1, 6, 1\n",
            "PARAMETER - 1 ,1, 4, 1\n",
            "../pdfs/data_16-04-2020_fold2/09-02-2020-1012.4934v1.Modified_graphene_with_small_BN_domain_an_effective_method_for_band_gap_opening.pdf.prediction\n",
            "['graphene']\n",
            "MATERIAL - 1 ,7, 1, 7\n",
            "STRUCTURE - 1 ,1, 1, 2\n",
            "PARAMETER - 3 ,3, 3, 3\n",
            "METHOD - 3 ,3, 4, 3\n",
            "CODE - 1 ,1, 1, 1\n",
            "Files:  17%|█████▉                             | 29/172 [00:00<00:02, 61.81it/s]../pdfs/data_16-04-2020_fold2/26-08-2019-paper-6.pdf.prediction\n",
            "['double perovskite Sr2NiWO6']\n",
            "MATERIAL - 1 ,2, 1, 2\n",
            "METHOD - 18 ,13, 25, 13\n",
            "CODE - 3 ,4, 5, 4\n",
            "PARAMETER - 6 ,5, 25, 5\n",
            "STRUCTURE - 2 ,1, 3, 1\n",
            "../pdfs/data_16-04-2020_fold2/29-01-2020-part1-1510.06917v1.Elastic_properties_of_5d_transition_metal_carbides_An_ab_initio_study.pdf.prediction\n",
            "['transition metal carbides TMC2 ( TM =Hf , Ta , W , Re , Os , Ir , Pt', 'transition - metal carbides']\n",
            "MATERIAL - 2 ,1, 2, 1\n",
            "METHOD - 6 ,4, 7, 4\n",
            "PARAMETER - 5 ,5, 7, 5\n",
            "STRUCTURE - 2 ,1, 8, 1\n",
            "CODE - 0 ,0, 1, 0\n",
            "../pdfs/data_16-04-2020_fold2/18-09-2019-paper-10.pdf.prediction\n",
            "['CaBi2']\n",
            "MATERIAL - 1 ,1, 1, 1\n",
            "STRUCTURE - 1 ,1, 4, 1\n",
            "CODE - 1 ,1, 3, 1\n",
            "METHOD - 5 ,5, 8, 5\n",
            "PARAMETER - 0 ,0, 4, 0\n",
            "Files:  22%|███████▌                           | 37/172 [00:00<00:02, 61.30it/s]../pdfs/data_16-04-2020_fold2/29-01-2020-part1-1302.7250v2.Mechanically_induced_metal_insulator_transition_in_carbyne.pdf.prediction\n",
            "['carbyne', 'carbyne']\n",
            "MATERIAL - 1 ,3, 1, 3\n",
            "METHOD - 5 ,3, 8, 3\n",
            "CODE - 1 ,1, 1, 1\n",
            "PARAMETER - 0 ,0, 2, 0\n",
            "../pdfs/data_16-04-2020_fold2/01-01-2020-9.pdf.prediction\n",
            "['hypothetical semi - Heusler alloys NiV M ( M= P , As , Sb ,']\n",
            "MATERIAL - 1 ,1, 1, 1\n",
            "METHOD - 5 ,4, 5, 4\n",
            "PARAMETER - 1 ,1, 2, 4\n",
            "STRUCTURE - 0 ,0, 1, 0\n",
            "../pdfs/data_16-04-2020_fold2/29-01-2020-part1-1208.1246v1.Engineering_direct_indirect_band_gap_transition_in_wurtzite_GaAs_nanowires_through_size_and_uniaxial_strain.pdf.prediction\n",
            "['GaAs nanowires']\n",
            "MATERIAL - 1 ,1, 1, 1\n",
            "CODE - 1 ,1, 1, 1\n",
            "METHOD - 2 ,2, 4, 2\n",
            "PARAMETER - 3 ,4, 5, 4\n",
            "STRUCTURE - 0 ,0, 4, 0\n",
            "../pdfs/data_16-04-2020_fold2/29-01-2020-part2-1809.05159v1.Phonon_anharmonic_frequency_shift_induced_by_four_phonon_scattering_calculated_from_first_principles.pdf.prediction\n",
            "['silicon', 'Silicon']\n",
            "MATERIAL - 2 ,1, 2, 1\n",
            "CODE - 2 ,2, 3, 3\n",
            "METHOD - 4 ,4, 9, 4\n",
            "PARAMETER - 1 ,1, 7, 1\n",
            "Files:  26%|█████████▏                         | 45/172 [00:00<00:01, 64.20it/s]../pdfs/data_16-04-2020_fold2/09-02-2020-1007.1864v1.The_third_conformer_of_graphane_A_first_principles_DFT_based_study.pdf.prediction\n",
            "['graphane']\n",
            "STRUCTURE - 0 ,0, 1, 1\n",
            "MATERIAL - 0 ,0, 1, 1\n",
            "METHOD - 7 ,5, 9, 5\n",
            "CODE - 3 ,3, 4, 4\n",
            "PARAMETER - 3 ,3, 5, 3\n",
            "../pdfs/data_16-04-2020_fold2/09-02-2020-1711.04334v1.Stable_Ultra_thin_CdTe_Crystal_A_Robust_Direct_Gap_Semiconductor.pdf.prediction\n",
            "['ZnSe', 'MoS2']\n",
            "MATERIAL - 0 ,0, 2, 1\n",
            "METHOD - 5 ,4, 6, 4\n",
            "CODE - 2 ,2, 2, 2\n",
            "PARAMETER - 3 ,3, 8, 3\n",
            "STRUCTURE - 0 ,0, 2, 1\n",
            "../pdfs/data_16-04-2020_fold2/29-01-2020-part2-1907.05115v1.A_novel_approach_to_quantify_the_structural_distortions_of_U_Th_snub_disphenoids_and_their_role_in_zircon_to_reidite_type_phase_transitions_of_uranothorite.pdf.prediction\n",
            "['uranothorite', 'zircon → reidite', 'U/Th snub - disphenoids']\n",
            "MATERIAL - 1 ,1, 3, 1\n",
            "CODE - 1 ,1, 2, 1\n",
            "METHOD - 4 ,2, 10, 2\n",
            "PARAMETER - 2 ,2, 5, 2\n",
            "STRUCTURE - 4 ,1, 8, 1\n",
            "Files:  33%|███████████▌                       | 57/172 [00:00<00:01, 67.62it/s]../pdfs/data_16-04-2020_fold2/18-09-2019-paper-13.pdf.prediction\n",
            "['ZnWO4']\n",
            "MATERIAL - 1 ,1, 1, 1\n",
            "STRUCTURE - 0 ,0, 12, 4\n",
            "CODE - 1 ,1, 2, 1\n",
            "METHOD - 3 ,2, 6, 2\n",
            "PARAMETER - 3 ,3, 6, 3\n",
            "../pdfs/data_16-04-2020_fold2/08-06-2019-paper-5.pdf.prediction\n",
            "['CoFeIn and Co2FeIn Heusler alloys']\n",
            "MATERIAL - 1 ,1, 1, 1\n",
            "METHOD - 12 ,4, 16, 4\n",
            "CODE - 1 ,1, 1, 1\n",
            "PARAMETER - 5 ,4, 6, 4\n",
            "STRUCTURE - 0 ,0, 3, 0\n",
            "../pdfs/data_16-04-2020_fold2/01-01-2020-3.pdf.prediction\n",
            "['Co2MnX „XÄSi , Ge , Sn']\n",
            "MATERIAL - 1 ,2, 1, 2\n",
            "METHOD - 8 ,4, 12, 5\n",
            "STRUCTURE - 1 ,1, 1, 1\n",
            "PARAMETER - 1 ,1, 5, 1\n",
            "Files:  49%|█████████████████▎                 | 85/172 [00:00<00:01, 85.21it/s]../pdfs/data_16-04-2020_fold2/09-02-2020-1001.3224v1.Anomalous_optical_and_electronic_properties_of_dense_sodium.pdf.prediction\n",
            "['Na - hp4']\n",
            "MATERIAL - 0 ,0, 1, 1\n",
            "STRUCTURE - 1 ,1, 5, 3\n",
            "METHOD - 5 ,3, 9, 3\n",
            "CODE - 1 ,1, 1, 1\n",
            "PARAMETER - 1 ,1, 6, 1\n",
            "../pdfs/data_16-04-2020_fold2/29-01-2020-part2-1808.03505v1.Origin_of_sp_electron_magnetism_in_Graphitic_Carbon_Nitride.pdf.prediction\n",
            "['Carbon Nitride']\n",
            "MATERIAL - 1 ,1, 1, 1\n",
            "METHOD - 6 ,4, 8, 4\n",
            "CODE - 2 ,2, 2, 2\n",
            "PARAMETER - 3 ,3, 4, 3\n",
            "../pdfs/data_16-04-2020_fold2/19-01-2019-paper-30.pdf.prediction\n",
            "['Niâ€``Mn based Heusler alloys']\n",
            "MATERIAL - 1 ,1, 1, 1\n",
            "STRUCTURE - 2 ,1, 6, 3\n",
            "CODE - 3 ,3, 4, 3\n",
            "METHOD - 8 ,6, 15, 6\n",
            "PARAMETER - 12 ,14, 12, 14\n",
            "../pdfs/data_16-04-2020_fold2/28-09-2019-10a.pdf.prediction\n",
            "['Co - rich Co 1+x Fe 1-x CrGa']\n",
            "MATERIAL - 1 ,3, 1, 3\n",
            "STRUCTURE - 1 ,1, 2, 1\n",
            "METHOD - 3 ,3, 6, 3\n",
            "CODE - 0 ,0, 4, 1\n",
            "PARAMETER - 4 ,4, 6, 4\n",
            "Files:  56%|███████████████████▋               | 97/172 [00:00<00:00, 84.21it/s]../pdfs/data_16-04-2020_fold2/19-01-2019-paper-28.pdf.prediction\n",
            "deleted\n",
            "['Fe2ScX ( X = P , As and Sb']\n",
            "MATERIAL - 1 ,1, 1, 1\n",
            "CODE - 3 ,2, 4, 2\n",
            "METHOD - 2 ,2, 5, 2\n",
            "PARAMETER - 2 ,3, 5, 4\n",
            "STRUCTURE - 3 ,2, 7, 2\n",
            "../pdfs/data_16-04-2020_fold2/04-09-2019-paper-17.pdf.prediction\n",
            "['Mn', 'CuGaS2 chalcopyrites', 'Mn', 'Mn', 'Mn', 'Mn']\n",
            "MATERIAL - 2 ,1, 2, 1\n",
            "METHOD - 7 ,4, 10, 4\n",
            "PARAMETER - 2 ,2, 4, 3\n",
            "STRUCTURE - 0 ,0, 2, 2\n",
            "CODE - 0 ,0, 2, 0\n",
            "../pdfs/data_16-04-2020_fold2/29-01-2020-part1-1608.07203v1.First_principles_phase_stability_bonding_and_electronic_structure_of_actinide_metals.pdf.prediction\n",
            "['actinides']\n",
            "MATERIAL - 0 ,0, 1, 1\n",
            "METHOD - 7 ,5, 10, 5\n",
            "STRUCTURE - 6 ,2, 17, 2\n",
            "../pdfs/data_16-04-2020_fold2/09-02-2020-1001.2573v1.Stability_and_Electronic_Properties_of_TiO2_Nanostructures_With_and_Without_B_and_N_Doping.pdf.prediction\n",
            "['TiO2']\n",
            "MATERIAL - 1 ,1, 1, 1\n",
            "PARAMETER - 4 ,4, 6, 5\n",
            "METHOD - 2 ,1, 10, 1\n",
            "CODE - 2 ,3, 2, 5\n",
            "STRUCTURE - 0 ,0, 1, 0\n",
            "Files:  68%|███████████████████████▏          | 117/172 [00:01<00:00, 96.37it/s]../pdfs/data_16-04-2020_fold2/04-09-2019-paper-34.pdf.prediction\n",
            "['BaTiO3 and PbTiO3']\n",
            "MATERIAL - 1 ,1, 1, 1\n",
            "METHOD - 5 ,4, 7, 4\n",
            "PARAMETER - 2 ,2, 8, 2\n",
            "STRUCTURE - 0 ,0, 3, 1\n",
            "../pdfs/data_16-04-2020_fold2/28-10-2019-4-10.pdf.prediction\n",
            "['Co2MnGe Heusler alloy']\n",
            "MATERIAL - 1 ,1, 1, 1\n",
            "METHOD - 9 ,7, 15, 7\n",
            "PARAMETER - 2 ,2, 5, 2\n",
            "CODE - 1 ,1, 1, 1\n",
            "STRUCTURE - 2 ,1, 6, 1\n",
            "../pdfs/data_16-04-2020_fold2/29-01-2020-part2-1201.0599v1.Temperature_dependent_elastic_constants_for_crystals_with_arbitrary_symmetry_combined_first_principles_and_continuum_elasticity_theory.pdf.prediction\n",
            "['beryllium']\n",
            "METHOD - 3 ,3, 10, 4\n",
            "STRUCTURE - 2 ,1, 5, 1\n",
            "MATERIAL - 1 ,1, 1, 2\n",
            "CODE - 2 ,2, 2, 2\n",
            "PARAMETER - 3 ,3, 4, 3\n",
            "Files:  75%|█████████████████████████▌        | 129/172 [00:01<00:00, 99.61it/s]../pdfs/data_16-04-2020_fold2/09-02-2020-1711.05094v1.Dimensionality_suppressed_chemical_doping_in_2D_semiconductors_the_cases_of_phosphorene_MoS2_and_ReS2_from_first_principles.pdf.prediction\n",
            "['phosphorene , MoS2 , and ReS2']\n",
            "MATERIAL - 1 ,1, 1, 1\n",
            "METHOD - 4 ,4, 4, 4\n",
            "CODE - 1 ,1, 2, 1\n",
            "PARAMETER - 0 ,0, 1, 0\n",
            "STRUCTURE - 0 ,0, 1, 0\n",
            "../pdfs/data_16-04-2020_fold2/09-02-2020-1002.0376v2.First_principles_design_and_subsequent_synthesis_of_a_material_to_search_for_the_permanent_electric_dipole_moment_of_the_electron.pdf.prediction\n",
            "['Eu0 . 5Ba0 . 5TiO3 ceramics', 'Ba2+']\n",
            "STRUCTURE - 3 ,3, 5, 3\n",
            "MATERIAL - 0 ,0, 2, 1\n",
            "INVALID - 0 ,0, 0, 1\n",
            "METHOD - 3 ,2, 11, 2\n",
            "PARAMETER - 1 ,2, 4, 2\n",
            "CODE - 1 ,1, 1, 1\n",
            "../pdfs/data_16-04-2020_fold2/28-10-2019-12-10.pdf.prediction\n",
            "['Half Heusler alloys FeVX ( X=Si , Ge , Sn']\n",
            "MATERIAL - 1 ,1, 1, 1\n",
            "METHOD - 9 ,3, 15, 3\n",
            "CODE - 1 ,1, 1, 1\n",
            "PARAMETER - 4 ,3, 4, 5\n",
            "STRUCTURE - 4 ,2, 6, 2\n",
            "../pdfs/data_16-04-2020_fold2/09-02-2020-1011.2576v2.Half_metallic_Antiferromagnet_Sheets_in_Sr4M2O6CrFeAs2_M_Sc_Cr_and_Their_Bulk_Form.pdf.prediction\n",
            "['Sr4M2O6CrFeAs2 ( M=Sc , Cr']\n",
            "MATERIAL - 1 ,1, 1, 1\n",
            "METHOD - 2 ,3, 2, 3\n",
            "CODE - 1 ,1, 3, 1\n",
            "PARAMETER - 0 ,0, 4, 2\n",
            "Files:  82%|███████████████████████████▊      | 141/172 [00:01<00:00, 96.65it/s]../pdfs/data_16-04-2020_fold2/08-06-2019-paper-4.pdf.prediction\n",
            "['Ni2MnGe Heusler alloys']\n",
            "MATERIAL - 1 ,1, 1, 1\n",
            "PARAMETER - 3 ,2, 4, 2\n",
            "METHOD - 6 ,4, 10, 4\n",
            "STRUCTURE - 2 ,1, 5, 1\n",
            "../pdfs/data_16-04-2020_fold2/28-10-2019-1-10.pdf.prediction\n",
            "['GdCo5']\n",
            "MATERIAL - 1 ,1, 1, 1\n",
            "METHOD - 9 ,3, 14, 3\n",
            "CODE - 1 ,1, 1, 1\n",
            "PARAMETER - 8 ,8, 12, 8\n",
            "STRUCTURE - 1 ,1, 2, 1\n",
            "../pdfs/data_16-04-2020_fold2/18-09-2019-paper-14.pdf.prediction\n",
            "['cerium - doped elpasolite Cs2LiYCl6']\n",
            "MATERIAL - 1 ,1, 1, 1\n",
            "CODE - 0 ,0, 0, 1\n",
            "METHOD - 3 ,2, 7, 2\n",
            "PARAMETER - 5 ,5, 7, 5\n",
            "STRUCTURE - 0 ,0, 0, 0\n",
            "../pdfs/data_16-04-2020_fold2/28-10-2019-16-10.pdf.prediction\n",
            "['Co2TaAl']\n",
            "MATERIAL - 1 ,1, 1, 1\n",
            "METHOD - 7 ,2, 10, 3\n",
            "STRUCTURE - 1 ,1, 3, 1\n",
            "CODE - 2 ,1, 2, 1\n",
            "PARAMETER - 5 ,7, 8, 7\n",
            "Files:  88%|█████████████████████████████▏   | 152/172 [00:01<00:00, 100.03it/s]../pdfs/data_16-04-2020_fold2/09-02-2020-1711.01055v3.Topological_phases_in_Bi_Sb_planar_and_buckled_honeycomb_monolayers.pdf.prediction\n",
            "['Bi/Sb planar and buckled honeycomb']\n",
            "MATERIAL - 1 ,1, 1, 1\n",
            "STRUCTURE - 0 ,0, 1, 1\n",
            "METHOD - 2 ,2, 6, 4\n",
            "PARAMETER - 2 ,2, 8, 3\n",
            "CODE - 0 ,0, 1, 0\n",
            "../pdfs/data_16-04-2020_fold2/29-01-2020-part2-1702.01144v1.Band_Structure_Band_Offsets_Substitutional_Doping_and_Schottky_Barriers_in_InSe.pdf.prediction\n",
            "['InSe']\n",
            "MATERIAL - 1 ,2, 1, 2\n",
            "CODE - 1 ,1, 1, 1\n",
            "PARAMETER - 3 ,4, 9, 4\n",
            "METHOD - 1 ,1, 8, 1\n",
            "STRUCTURE - 0 ,0, 1, 1\n",
            "../pdfs/data_16-04-2020_fold2/04-09-2019-paper-22.pdf.prediction\n",
            "['SnTe and PbTe']\n",
            "MATERIAL - 1 ,1, 1, 1\n",
            "METHOD - 0 ,0, 1, 0\n",
            "../pdfs/data_16-04-2020_fold2/28-09-2019-5a.pdf.prediction\n",
            "['qua - ternary Heusler alloy CoFeMnSi']\n",
            "STRUCTURE - 1 ,1, 6, 1\n",
            "METHOD - 3 ,3, 3, 3\n",
            "MATERIAL - 1 ,1, 1, 1\n",
            "CODE - 1 ,1, 1, 1\n",
            "PARAMETER - 4 ,3, 8, 3\n",
            "../pdfs/data_16-04-2020_fold2/01-01-2020-13.pdf.prediction\n",
            "['ZnSe']\n",
            "MATERIAL - 1 ,1, 1, 1\n",
            "METHOD - 9 ,3, 28, 3\n",
            "CODE - 1 ,1, 1, 1\n",
            "PARAMETER - 2 ,2, 8, 2\n",
            "STRUCTURE - 1 ,1, 1, 1\n",
            "Files:  98%|████████████████████████████████▍| 169/172 [00:01<00:00, 111.36it/s]../pdfs/data_16-04-2020_fold2/09-02-2020-1008.5310v2.DFT_calculations_of_point_defects_on_UN_001_surface.pdf.prediction\n",
            "['UN ( 001 ) surface']\n",
            "MATERIAL - 1 ,1, 1, 1\n",
            "CODE - 2 ,2, 3, 2\n",
            "STRUCTURE - 1 ,1, 2, 1\n",
            "PARAMETER - 5 ,5, 10, 6\n",
            "METHOD - 2 ,3, 8, 3\n",
            "Files: 100%|█████████████████████████████████| 172/172 [00:01<00:00, 112.72it/s]\n",
            "{'MATERIAL': [43, 52, 52, 58], 'METHOD': [238, 155, 417, 162], 'CODE': [50, 48, 74, 54], 'PARAMETER': [118, 121, 264, 135], 'STRUCTURE': [46, 28, 149, 44], 'INVALID': [0, 0, 0, 1]}\n",
            "[MATERIAL set - Overlap] Precision: 82.69, Recall: 89.66, F1: 86.03\n",
            "[METHOD set - Overlap] Precision: 57.07, Recall: 95.68, F1: 71.50\n",
            "[CODE set - Overlap] Precision: 67.57, Recall: 88.89, F1: 76.78\n",
            "[PARAMETER set - Overlap] Precision: 44.70, Recall: 89.63, F1: 59.65\n",
            "[STRUCTURE set - Overlap] Precision: 30.87, Recall: 63.64, F1: 41.58\n",
            "[INVALID set - Overlap] Precision: 0.00, Recall: 0.00, F1: 0.00\n"
          ],
          "name": "stdout"
        }
      ]
    },
    {
      "cell_type": "markdown",
      "metadata": {
        "id": "PWa1-HwdlPLJ"
      },
      "source": [
        "## MIMICKING MODEL\r\n",
        "We have trained the Relabelling model, now we will train Mimicking model. For that we will use the previously trained model to induce noise in the dataset."
      ]
    },
    {
      "cell_type": "code",
      "metadata": {
        "id": "_tyntXmMlPLJ"
      },
      "source": [
        "!python3 make_predictions.py -paperDir data/16-04-2020_alllines_fold2_persection -modelPath relabelling_model_fold2/relabelling_model_fold2.tar.gz"
      ],
      "execution_count": null,
      "outputs": []
    },
    {
      "cell_type": "code",
      "metadata": {
        "id": "AP7ciebDlPLK"
      },
      "source": [
        "import random\n",
        "paper_dir = \"data/16-04-2020_alllines_fold2_persection/\"\n",
        "final_dir = \"data/fold2_mimicking_data/\"\n",
        "file1 = open(paper_dir+\"train.txt\",\"r+\")\n",
        "file2 = open(paper_dir+\"train.prediction\",\"r+\")\n",
        "lines1 = file1.readlines()\n",
        "lines2 = file2.readlines()\n",
        "new_file = open(final_dir+\"train.txt\",\"w+\")\n",
        "for i in range(len(lines1)):\n",
        "    line1=lines1[i].strip(\"\\n\")\n",
        "    line2=lines2[i].strip(\"\\n\")\n",
        "    if line1!=\"\":\n",
        "        word,label1 = line1.split()\n",
        "        _,label2 = line2.split()\n",
        "        if label1==\"O\" and \"MATERIAL\" in label2:\n",
        "            temp = random.randint(0,1)\n",
        "            if temp==0:\n",
        "                label1 = label2\n",
        "        if label1==\"O\" and \"STRUCTURE\" in label2:\n",
        "            temp = random.randint(0,1)\n",
        "            if temp==0: #only 20% of structure will be added\n",
        "                label1 = label2\n",
        "        if label1==\"O\" and \"CODE\" in label2:\n",
        "            temp = random.randint(0,2)\n",
        "            if temp==0: #only 20% of code will be added\n",
        "                label1 = label2\n",
        "        if label1==\"O\" and \"METHOD\" in label2:\n",
        "            temp = random.randint(0,3)\n",
        "            if temp==0: #only 20% of code will be added\n",
        "                label1 = label2\n",
        "        if label1==\"O\" and \"PARAMETER\" in label2:\n",
        "            temp = random.randint(0,9)\n",
        "            if temp==0: #only 10% of code will be added\n",
        "                label1 = label2\n",
        "        new_file.write(word+\" \"+label1+\"\\n\")\n",
        "    else:\n",
        "        new_file.write(\"\\n\")\n",
        "new_file.close()\n",
        "file1.close()\n",
        "file2.close()"
      ],
      "execution_count": null,
      "outputs": []
    },
    {
      "cell_type": "markdown",
      "metadata": {
        "id": "N_76Fp-8mvur"
      },
      "source": [
        "### Create elmo for the training dataset.\r\n",
        "This time for the mimicking model."
      ]
    },
    {
      "cell_type": "code",
      "metadata": {
        "collapsed": true,
        "id": "O_sP3Bf6lPLL",
        "outputId": "960e0db4-79d2-4bcc-a5c1-f315d1554cda"
      },
      "source": [
        "!python3 get_elmo_vec.py"
      ],
      "execution_count": null,
      "outputs": [
        {
          "output_type": "stream",
          "text": [
            "Reading file: data/fold2_mimicking_data/train.txt\n",
            "100%|█████████████████████████████| 1005778/1005778 [00:01<00:00, 612748.67it/s]\n",
            "number of sentences: 1514\n",
            "^C\n",
            "Traceback (most recent call last):\n",
            "  File \"get_elmo_vec.py\", line 90, in <module>\n",
            "    get_vector()\n",
            "  File \"get_elmo_vec.py\", line 75, in get_vector\n",
            "    read_parse_write(elmo, file, outfile, mode)\n",
            "  File \"get_elmo_vec.py\", line 57, in read_parse_write\n",
            "    vec = parse_sentence(elmo, inst.input.words, mode=mode)#Remove pos_tags argument for model without additional embeedding for materials\n",
            "  File \"get_elmo_vec.py\", line 20, in parse_sentence\n",
            "    vectors = elmo.embed_sentence(words)\n",
            "  File \"/home/jatin-pg/.local/lib/python3.6/site-packages/allennlp/commands/elmo.py\", line 230, in embed_sentence\n",
            "    return self.embed_batch([sentence])[0]\n",
            "  File \"/home/jatin-pg/.local/lib/python3.6/site-packages/allennlp/commands/elmo.py\", line 255, in embed_batch\n",
            "    embeddings, mask = self.batch_to_embeddings(batch)\n",
            "  File \"/home/jatin-pg/.local/lib/python3.6/site-packages/allennlp/commands/elmo.py\", line 197, in batch_to_embeddings\n",
            "    bilm_output = self.elmo_bilm(character_ids)\n",
            "  File \"/home/jatin-pg/.local/lib/python3.6/site-packages/torch/nn/modules/module.py\", line 532, in __call__\n",
            "    result = self.forward(*input, **kwargs)\n",
            "  File \"/home/jatin-pg/.local/lib/python3.6/site-packages/allennlp/modules/elmo.py\", line 610, in forward\n",
            "    lstm_outputs = self._elmo_lstm(type_representation, mask)\n",
            "  File \"/home/jatin-pg/.local/lib/python3.6/site-packages/torch/nn/modules/module.py\", line 532, in __call__\n",
            "    result = self.forward(*input, **kwargs)\n",
            "  File \"/home/jatin-pg/.local/lib/python3.6/site-packages/allennlp/modules/elmo_lstm.py\", line 123, in forward\n",
            "    self.sort_and_run_forward(self._lstm_forward, inputs, mask)\n",
            "  File \"/home/jatin-pg/.local/lib/python3.6/site-packages/allennlp/modules/encoder_base.py\", line 116, in sort_and_run_forward\n",
            "    module_output, final_states = module(packed_sequence_input, initial_states)\n",
            "  File \"/home/jatin-pg/.local/lib/python3.6/site-packages/allennlp/modules/elmo_lstm.py\", line 217, in _lstm_forward\n",
            "    forward_state)\n",
            "  File \"/home/jatin-pg/.local/lib/python3.6/site-packages/torch/nn/modules/module.py\", line 532, in __call__\n",
            "    result = self.forward(*input, **kwargs)\n",
            "  File \"/home/jatin-pg/.local/lib/python3.6/site-packages/allennlp/modules/lstm_cell_with_projection.py\", line 155, in forward\n",
            "    while batch_lengths[current_length_index] <= index:\n",
            "KeyboardInterrupt\n"
          ],
          "name": "stdout"
        }
      ]
    },
    {
      "cell_type": "markdown",
      "metadata": {
        "id": "pusGTzDMm2gz"
      },
      "source": [
        "### Train the mimicking model"
      ]
    },
    {
      "cell_type": "code",
      "metadata": {
        "id": "noVFSvaklPLL"
      },
      "source": [
        "!python3 trainer.py --device \"cuda:1\" --dataset \"fold2_mimicking_data\" --embedding_file \"data/material_science_glove2.txt\" --learning_rate \"0.001\" --optimizer \"sgd\" --context_emb \"elmo\" --dropout 0.5 --hidden_dim 200 --num_epochs 120 --model_folder \"mimicking_model_fold2\" --batch_size 8"
      ],
      "execution_count": null,
      "outputs": []
    },
    {
      "cell_type": "markdown",
      "metadata": {
        "id": "ZNkw3NYLm8EO"
      },
      "source": [
        "### Reformat the test dataset"
      ]
    },
    {
      "cell_type": "code",
      "metadata": {
        "id": "wzukvkGwlPLM",
        "outputId": "ef08df7b-7492-4573-bcfa-a525758736ae"
      },
      "source": [
        "!python3 create_test_final.py -paperDir ../pdfs/data_16-04-2020_fold2/ -persection true -context elmo"
      ],
      "execution_count": null,
      "outputs": [
        {
          "output_type": "stream",
          "text": [
            "Files: 100%|██████████████████████████████████| 172/172 [00:46<00:00,  3.68it/s]\n"
          ],
          "name": "stdout"
        }
      ]
    },
    {
      "cell_type": "markdown",
      "metadata": {
        "id": "u_QrKhZcm_ow"
      },
      "source": [
        "### Get predictions on the test dataset"
      ]
    },
    {
      "cell_type": "code",
      "metadata": {
        "id": "UBNWFLg5lPLM",
        "outputId": "685e1be3-28f1-4964-943d-1fc98f574260"
      },
      "source": [
        "!python3 predict_instances.py -paperDir ../pdfs/data_16-04-2020_fold2/ -modelPath mimicking_model_fold2/mimicking_model_fold2.tar.gz"
      ],
      "execution_count": null,
      "outputs": [
        {
          "output_type": "stream",
          "text": [
            "Files:   0%|                                             | 0/43 [00:00<?, ?it/s]../pdfs/data_16-04-2020_fold2/29-01-2020-part2-1702.01144v1.Band_Structure_Band_Offsets_Substitutional_Doping_and_Schottky_Barriers_in_InSe.pdf.txt\n",
            "Files:   2%|▊                                    | 1/43 [00:13<09:12, 13.15s/it]../pdfs/data_16-04-2020_fold2/09-02-2020-1711.04334v1.Stable_Ultra_thin_CdTe_Crystal_A_Robust_Direct_Gap_Semiconductor.pdf.txt\n",
            "Files:   5%|█▋                                   | 2/43 [00:30<09:53, 14.46s/it]../pdfs/data_16-04-2020_fold2/09-02-2020-1012.4934v1.Modified_graphene_with_small_BN_domain_an_effective_method_for_band_gap_opening.pdf.txt\n",
            "Files:   7%|██▌                                  | 3/43 [00:45<09:44, 14.61s/it]../pdfs/data_16-04-2020_fold2/09-02-2020-1007.1864v1.The_third_conformer_of_graphane_A_first_principles_DFT_based_study.pdf.txt\n",
            "Files:   9%|███▍                                 | 4/43 [01:03<10:08, 15.61s/it]../pdfs/data_16-04-2020_fold2/28-09-2019-5a.pdf.txt\n",
            "Files:  12%|████▎                                | 5/43 [01:19<09:58, 15.75s/it]../pdfs/data_16-04-2020_fold2/04-09-2019-paper-34.pdf.txt\n",
            "Files:  14%|█████▏                               | 6/43 [01:39<10:31, 17.06s/it]../pdfs/data_16-04-2020_fold2/29-01-2020-part2-1809.05159v1.Phonon_anharmonic_frequency_shift_induced_by_four_phonon_scattering_calculated_from_first_principles.pdf.txt\n",
            "Files:  16%|██████                               | 7/43 [01:59<10:45, 17.92s/it]../pdfs/data_16-04-2020_fold2/29-01-2020-part2-1510.00513v1.Electronic_structure_and_magnetic_properties_of_FeTe_BiFeO__3_SrFe___12_O___19_and_SrCoTiFe___10_O___19_compounds.pdf.txt\n",
            "Files:  19%|██████▉                              | 8/43 [02:15<10:04, 17.28s/it]../pdfs/data_16-04-2020_fold2/29-01-2020-part1-1302.7250v2.Mechanically_induced_metal_insulator_transition_in_carbyne.pdf.txt\n",
            "Files:  21%|███████▋                             | 9/43 [02:30<09:27, 16.69s/it]../pdfs/data_16-04-2020_fold2/26-08-2019-paper-10.pdf.txt\n",
            "Files:  23%|████████▎                           | 10/43 [02:46<09:05, 16.53s/it]../pdfs/data_16-04-2020_fold2/26-08-2019-paper-6.pdf.txt\n",
            "Files:  26%|█████████▏                          | 11/43 [03:02<08:39, 16.24s/it]../pdfs/data_16-04-2020_fold2/28-10-2019-12-10.pdf.txt\n",
            "Files:  28%|██████████                          | 12/43 [03:12<07:28, 14.46s/it]../pdfs/data_16-04-2020_fold2/01-01-2020-3.pdf.txt\n",
            "Files:  30%|██████████▉                         | 13/43 [03:31<07:50, 15.67s/it]../pdfs/data_16-04-2020_fold2/09-02-2020-1011.2576v2.Half_metallic_Antiferromagnet_Sheets_in_Sr4M2O6CrFeAs2_M_Sc_Cr_and_Their_Bulk_Form.pdf.txt\n",
            "Files:  33%|███████████▋                        | 14/43 [03:41<06:44, 13.96s/it]../pdfs/data_16-04-2020_fold2/18-09-2019-paper-10.pdf.txt\n",
            "Files:  35%|████████████▌                       | 15/43 [04:07<08:11, 17.55s/it]../pdfs/data_16-04-2020_fold2/28-10-2019-8-10.pdf.txt\n",
            "Files:  37%|█████████████▍                      | 16/43 [04:23<07:45, 17.24s/it]../pdfs/data_16-04-2020_fold2/04-09-2019-paper-17.pdf.txt\n",
            "Files:  40%|██████████████▏                     | 17/43 [04:37<07:04, 16.34s/it]../pdfs/data_16-04-2020_fold2/09-02-2020-1002.0376v2.First_principles_design_and_subsequent_synthesis_of_a_material_to_search_for_the_permanent_electric_dipole_moment_of_the_electron.pdf.txt\n",
            "Files:  42%|███████████████                     | 18/43 [04:55<06:58, 16.74s/it]../pdfs/data_16-04-2020_fold2/29-01-2020-part2-1907.05115v1.A_novel_approach_to_quantify_the_structural_distortions_of_U_Th_snub_disphenoids_and_their_role_in_zircon_to_reidite_type_phase_transitions_of_uranothorite.pdf.txt\n",
            "Files:  44%|███████████████▉                    | 19/43 [05:23<08:00, 20.03s/it]../pdfs/data_16-04-2020_fold2/29-01-2020-part2-1201.0599v1.Temperature_dependent_elastic_constants_for_crystals_with_arbitrary_symmetry_combined_first_principles_and_continuum_elasticity_theory.pdf.txt\n",
            "Files:  47%|████████████████▋                   | 20/43 [05:36<06:52, 17.91s/it]../pdfs/data_16-04-2020_fold2/28-10-2019-16-10.pdf.txt\n",
            "Files:  49%|█████████████████▌                  | 21/43 [05:51<06:15, 17.06s/it]../pdfs/data_16-04-2020_fold2/09-02-2020-1711.01055v3.Topological_phases_in_Bi_Sb_planar_and_buckled_honeycomb_monolayers.pdf.txt\n",
            "Files:  51%|██████████████████▍                 | 22/43 [06:18<07:00, 20.02s/it]../pdfs/data_16-04-2020_fold2/08-06-2019-paper-5.pdf.txt\n",
            "Files:  53%|███████████████████▎                | 23/43 [06:30<05:53, 17.66s/it]../pdfs/data_16-04-2020_fold2/28-09-2019-10a.pdf.txt\n",
            "Files:  56%|████████████████████                | 24/43 [06:57<06:29, 20.52s/it]../pdfs/data_16-04-2020_fold2/09-02-2020-1008.5310v2.DFT_calculations_of_point_defects_on_UN_001_surface.pdf.txt\n",
            "Files:  58%|████████████████████▉               | 25/43 [07:08<05:14, 17.47s/it]../pdfs/data_16-04-2020_fold2/04-09-2019-paper-22.pdf.txt\n",
            "Files:  60%|█████████████████████▊              | 26/43 [07:08<03:30, 12.38s/it]../pdfs/data_16-04-2020_fold2/18-09-2019-paper-13.pdf.txt\n",
            "Files:  63%|██████████████████████▌             | 27/43 [07:37<04:35, 17.22s/it]../pdfs/data_16-04-2020_fold2/29-01-2020-part1-1608.07203v1.First_principles_phase_stability_bonding_and_electronic_structure_of_actinide_metals.pdf.txt\n",
            "Files:  65%|███████████████████████▍            | 28/43 [07:50<04:00, 16.04s/it]../pdfs/data_16-04-2020_fold2/28-10-2019-1-10.pdf.txt\n",
            "Files:  67%|████████████████████████▎           | 29/43 [07:58<03:12, 13.77s/it]../pdfs/data_16-04-2020_fold2/09-02-2020-1001.2573v1.Stability_and_Electronic_Properties_of_TiO2_Nanostructures_With_and_Without_B_and_N_Doping.pdf.txt\n",
            "Files:  70%|█████████████████████████           | 30/43 [08:21<03:33, 16.43s/it]../pdfs/data_16-04-2020_fold2/18-09-2019-paper-14.pdf.txt\n",
            "Files:  72%|█████████████████████████▉          | 31/43 [08:37<03:15, 16.25s/it]../pdfs/data_16-04-2020_fold2/01-01-2020-9.pdf.txt\n",
            "Files:  74%|██████████████████████████▊         | 32/43 [08:44<02:28, 13.46s/it]../pdfs/data_16-04-2020_fold2/19-01-2019-paper-28.pdf.txt\n",
            "Files:  77%|███████████████████████████▋        | 33/43 [09:01<02:25, 14.50s/it]../pdfs/data_16-04-2020_fold2/09-02-2020-1711.05094v1.Dimensionality_suppressed_chemical_doping_in_2D_semiconductors_the_cases_of_phosphorene_MoS2_and_ReS2_from_first_principles.pdf.txt\n",
            "Files:  79%|████████████████████████████▍       | 34/43 [09:30<02:50, 18.95s/it]../pdfs/data_16-04-2020_fold2/09-02-2020-1001.3224v1.Anomalous_optical_and_electronic_properties_of_dense_sodium.pdf.txt\n",
            "Files:  81%|█████████████████████████████▎      | 35/43 [09:44<02:18, 17.37s/it]../pdfs/data_16-04-2020_fold2/29-01-2020-part2-1808.03505v1.Origin_of_sp_electron_magnetism_in_Graphitic_Carbon_Nitride.pdf.txt\n",
            "Files:  84%|██████████████████████████████▏     | 36/43 [09:54<01:47, 15.39s/it]../pdfs/data_16-04-2020_fold2/08-06-2019-paper-4.pdf.txt\n",
            "Files:  86%|██████████████████████████████▉     | 37/43 [10:05<01:24, 14.09s/it]../pdfs/data_16-04-2020_fold2/01-01-2020-13.pdf.txt\n",
            "Files:  88%|███████████████████████████████▊    | 38/43 [10:13<01:01, 12.21s/it]../pdfs/data_16-04-2020_fold2/28-10-2019-4-10.pdf.txt\n",
            "Files:  91%|████████████████████████████████▋   | 39/43 [10:29<00:52, 13.17s/it]../pdfs/data_16-04-2020_fold2/29-01-2020-part1-1510.06917v1.Elastic_properties_of_5d_transition_metal_carbides_An_ab_initio_study.pdf.txt\n",
            "Files:  93%|█████████████████████████████████▍  | 40/43 [10:36<00:34, 11.52s/it]../pdfs/data_16-04-2020_fold2/29-01-2020-part1-1608.01885v1.Density_functional_theory_calculations_of_the_stress_of_oxidised_110_silicon_surfaces.pdf.txt\n",
            "Files:  95%|██████████████████████████████████▎ | 41/43 [10:46<00:21, 10.97s/it]../pdfs/data_16-04-2020_fold2/29-01-2020-part1-1208.1246v1.Engineering_direct_indirect_band_gap_transition_in_wurtzite_GaAs_nanowires_through_size_and_uniaxial_strain.pdf.txt\n",
            "Files:  98%|███████████████████████████████████▏| 42/43 [10:56<00:10, 10.61s/it]../pdfs/data_16-04-2020_fold2/19-01-2019-paper-30.pdf.txt\n",
            "Files: 100%|████████████████████████████████████| 43/43 [11:16<00:00, 15.73s/it]\n"
          ],
          "name": "stdout"
        }
      ]
    },
    {
      "cell_type": "markdown",
      "metadata": {
        "id": "eTJPfSDVnClo"
      },
      "source": [
        "### Apply filters to get the final predictions on the test set and calculate the scores."
      ]
    },
    {
      "cell_type": "code",
      "metadata": {
        "id": "vv4u0BxklPLN"
      },
      "source": [
        "!python3 final_results_final.py -paperDir ../pdfs/data_16-04-2020_fold2/ -filterMaterial true -filterMethod false -MaterialPred false -printOnlyUnmatched false -filterStructure false"
      ],
      "execution_count": null,
      "outputs": []
    },
    {
      "cell_type": "code",
      "metadata": {
        "id": "_GN2bShAlPLN"
      },
      "source": [
        ""
      ],
      "execution_count": null,
      "outputs": []
    }
  ]
}